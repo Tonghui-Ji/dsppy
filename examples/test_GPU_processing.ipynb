{
 "cells": [
  {
   "cell_type": "markdown",
   "id": "c6ee02f1",
   "metadata": {
    "colab_type": "text",
    "id": "view-in-github"
   },
   "source": [
    "<a href=\"https://colab.research.google.com/github/edsonportosilva/OptiCommPy/blob/main/examples/test_GPU_processing.ipynb\" target=\"_parent\"><img src=\"https://colab.research.google.com/assets/colab-badge.svg\" alt=\"Open In Colab\"/></a>"
   ]
  },
  {
   "cell_type": "markdown",
   "id": "0270b2b0",
   "metadata": {
    "id": "0270b2b0"
   },
   "source": [
    "# Benchmarck GPU processing \n",
    "\n",
    "In this notebook, we conduct a benchmark analysis to assess the processing time necessary for simulating signal propagation through the nonlinear fiber model, specifically employing the Manakov model. The propagation simulation is implemented numerically, utilizing a split-step Fourier (SSF) algorithm."
   ]
  },
  {
   "cell_type": "code",
   "execution_count": 1,
   "id": "1ca1b9d6",
   "metadata": {
    "ExecuteTime": {
     "end_time": "2024-04-25T14:58:55.184567Z",
     "start_time": "2024-04-25T14:58:55.177057Z"
    },
    "colab": {
     "base_uri": "https://localhost:8080/"
    },
    "id": "1ca1b9d6",
    "outputId": "842dd4fc-f03a-4069-cf21-3ff634969be9"
   },
   "outputs": [],
   "source": [
    "if 'google.colab' in str(get_ipython()):    \n",
    "    ! git clone -b main https://github.com/edsonportosilva/OptiCommPy\n",
    "    from os import chdir as cd\n",
    "    cd('/content/OptiCommPy/')\n",
    "    ! pip install . "
   ]
  },
  {
   "cell_type": "code",
   "execution_count": 2,
   "id": "a4110d40",
   "metadata": {
    "ExecuteTime": {
     "end_time": "2024-04-25T14:58:56.897399Z",
     "start_time": "2024-04-25T14:58:55.185567Z"
    },
    "id": "a4110d40"
   },
   "outputs": [],
   "source": [
    "import matplotlib.pyplot as plt\n",
    "import numpy as np\n",
    "\n",
    "from optic.models.modelsGPU import manakovSSF as manakovSSF_GPU\n",
    "from optic.models.channels import manakovSSF as manakovSSF_CPU\n",
    "from optic.models.tx import simpleWDMTx\n",
    "from optic.utils import parameters\n",
    "\n",
    "import logging as logg\n",
    "logg.basicConfig(level=logg.WARN, format='%(message)s', force=True)\n",
    "\n",
    "import time\n",
    "from tqdm.notebook import tqdm"
   ]
  },
  {
   "cell_type": "code",
   "execution_count": 3,
   "id": "7df01820",
   "metadata": {
    "ExecuteTime": {
     "end_time": "2024-04-25T14:58:56.904120Z",
     "start_time": "2024-04-25T14:58:56.898434Z"
    },
    "colab": {
     "base_uri": "https://localhost:8080/",
     "height": 17
    },
    "id": "7df01820",
    "outputId": "604d8ed4-041f-4280-ec2b-972c3a244a4d"
   },
   "outputs": [
    {
     "data": {
      "text/html": [
       "\n",
       "<style>\n",
       ".output_png {\n",
       "    display: table-cell;\n",
       "    text-align: center;\n",
       "    vertical-align: middle;\n",
       "}\n",
       "</style>\n"
      ],
      "text/plain": [
       "<IPython.core.display.HTML object>"
      ]
     },
     "execution_count": 3,
     "metadata": {},
     "output_type": "execute_result"
    }
   ],
   "source": [
    "from IPython.core.display import HTML\n",
    "from IPython.core.pylabtools import figsize\n",
    "\n",
    "HTML(\"\"\"\n",
    "<style>\n",
    ".output_png {\n",
    "    display: table-cell;\n",
    "    text-align: center;\n",
    "    vertical-align: middle;\n",
    "}\n",
    "</style>\n",
    "\"\"\")"
   ]
  },
  {
   "cell_type": "code",
   "execution_count": 4,
   "id": "b8626f68",
   "metadata": {
    "ExecuteTime": {
     "end_time": "2024-04-25T14:58:56.919621Z",
     "start_time": "2024-04-25T14:58:56.905134Z"
    },
    "id": "b8626f68"
   },
   "outputs": [],
   "source": [
    "figsize(10, 3)"
   ]
  },
  {
   "cell_type": "code",
   "execution_count": 5,
   "id": "fc09c144",
   "metadata": {
    "ExecuteTime": {
     "end_time": "2024-04-25T14:58:56.991944Z",
     "start_time": "2024-04-25T14:58:56.920669Z"
    },
    "id": "fc09c144"
   },
   "outputs": [],
   "source": [
    "%load_ext autoreload\n",
    "%autoreload 2\n",
    "#%load_ext line_profiler"
   ]
  },
  {
   "cell_type": "markdown",
   "id": "505eaaa6",
   "metadata": {
    "id": "f01da2ca"
   },
   "source": [
    "## Signal parameters"
   ]
  },
  {
   "cell_type": "code",
   "execution_count": 6,
   "id": "51257869",
   "metadata": {
    "ExecuteTime": {
     "end_time": "2024-04-25T14:58:57.049708Z",
     "start_time": "2024-04-25T14:58:56.992971Z"
    },
    "colab": {
     "base_uri": "https://localhost:8080/"
    },
    "id": "51257869",
    "lines_to_next_cell": 0,
    "outputId": "4efb007d-d5fe-4d7d-ad28-f0bbffdd13fd"
   },
   "outputs": [],
   "source": [
    "# Transmitter parameters:\n",
    "paramTx = parameters()\n",
    "paramTx.M   = 16           # order of the modulation format\n",
    "paramTx.Rs  = 32e9         # symbol rate [baud]\n",
    "paramTx.SpS = 4            # samples per symbol\n",
    "paramTx.pulse = 'rrc'      # pulse shaping filter\n",
    "paramTx.Ntaps = 4096       # number of pulse shaping filter coefficients\n",
    "paramTx.alphaRRC = 0.01    # RRC rolloff\n",
    "paramTx.Pch_dBm = -2       # power per WDM channel [dBm]\n",
    "paramTx.Nch     = 1        # number of WDM channels\n",
    "paramTx.Fc      = 193.1e12 # central optical frequency of the WDM spectrum\n",
    "paramTx.lw      = 100e3    # laser linewidth in Hz\n",
    "paramTx.freqSpac = 37.5e9  # WDM grid spacing\n",
    "paramTx.Nmodes = 2         # number of signal modes [2 for polarization multiplexed signals]\n",
    "paramTx.prgsBar = False    # show progress bar\n",
    "\n",
    "# optical channel parameters\n",
    "paramCh = parameters()\n",
    "paramCh.Ltotal = 500     # total link distance [km]\n",
    "paramCh.Lspan  = 50      # span length [km]\n",
    "paramCh.alpha = 0.2      # fiber loss parameter [dB/km]\n",
    "paramCh.D = 16           # fiber dispersion parameter [ps/nm/km]\n",
    "paramCh.gamma = 1.3      # fiber nonlinear parameter [1/(W.km)]\n",
    "paramCh.Fc = paramTx.Fc  # central optical frequency of the WDM spectrum\n",
    "paramCh.hz = 0.5         # step-size of the split-step Fourier method [km]\n",
    "paramCh.maxIter = 5      # maximum number of convergence iterations per step\n",
    "paramCh.tol = 1e-5       # error tolerance per step\n",
    "paramCh.nlprMethod = True # use adaptive step-size based o maximum nonlinear phase-shift\n",
    "paramCh.maxNlinPhaseRot = 2e-2 # maximum nonlinear phase-shift per step\n",
    "paramCh.prgsBar = False   # show progress bar\n",
    "#paramCh.saveSpanN = [1, 5, 9, 14]\n",
    "paramCh.Fs = paramTx.Rs*paramTx.SpS # sampling rate"
   ]
  },
  {
   "cell_type": "markdown",
   "id": "a9312d25",
   "metadata": {},
   "source": [
    "## Compare CPU vs GPU processing"
   ]
  },
  {
   "cell_type": "code",
   "execution_count": 8,
   "id": "05599d49",
   "metadata": {
    "ExecuteTime": {
     "end_time": "2024-04-25T15:04:09.778622Z",
     "start_time": "2024-04-25T14:58:57.109049Z"
    },
    "colab": {
     "base_uri": "https://localhost:8080/",
     "height": 49,
     "referenced_widgets": [
      "d7ec57b1b19d4660a0548563dd43f97c",
      "f973387453444cc4b5fbec8658506a3a",
      "0d0d223577654c0980520ed48c4866a7",
      "92a22dde2b5e4ab882f824d5dff0d377",
      "7b1b87f7b77049a691df25723928eef3",
      "32ef48a5dd1d4a2cb94e5409dd572d74",
      "c5a9e5d034e64b00b295e93140f51e72",
      "b70bb6363ff64ccbb7087900ef892eb5",
      "d4247b94ef5c4a439cd4af9458125fc2",
      "6a786005faa04fd8b7c5e69dc70df06a",
      "994d17059a9b47f0b2ed3654712fb0c3"
     ]
    },
    "id": "05599d49",
    "outputId": "debb83bb-27f7-46f4-be76-89fc838c11ac",
    "scrolled": false
   },
   "outputs": [
    {
     "data": {
      "application/vnd.jupyter.widget-view+json": {
       "model_id": "5860c1a84f064f329a5b169366eea475",
       "version_major": 2,
       "version_minor": 0
      },
      "text/plain": [
       "  0%|          | 0/7 [00:00<?, ?it/s]"
      ]
     },
     "metadata": {},
     "output_type": "display_data"
    }
   ],
   "source": [
    "numberOfSymbols = np.array([5e3, 1e4, 2e4, 5e4, 1e5, 2e5, 5e5])\n",
    "\n",
    "timeCPU = np.zeros(len(numberOfSymbols))\n",
    "timeGPU = np.zeros(len(numberOfSymbols))\n",
    "\n",
    "paramTx.Pch_dBm = -2 # power per WDM channel [dBm]\n",
    "\n",
    "for idx, Nsymb in enumerate(tqdm(numberOfSymbols)):    \n",
    "    paramTx.Nbits = int(np.log2(paramTx.M)*Nsymb) # total number of bits per polarization\n",
    "    # generate WDM signal\n",
    "    sigWDM_Tx, symbTx_, paramTx = simpleWDMTx(paramTx)\n",
    "\n",
    "    # nonlinear signal propagation\n",
    "    start = time.time()\n",
    "    sigWDM = manakovSSF_CPU(sigWDM_Tx, paramCh)\n",
    "    end = time.time()    \n",
    "    timeCPU[idx] = end - start\n",
    "\n",
    "    # nonlinear signal propagation\n",
    "    start = time.time()\n",
    "    sigWDM = manakovSSF_GPU(sigWDM_Tx, paramCh)\n",
    "    end = time.time()    \n",
    "    timeGPU[idx] = end - start"
   ]
  },
  {
   "cell_type": "code",
   "execution_count": 9,
   "id": "e953067f",
   "metadata": {
    "ExecuteTime": {
     "end_time": "2024-04-25T15:04:10.164461Z",
     "start_time": "2024-04-25T15:04:09.779618Z"
    }
   },
   "outputs": [
    {
     "data": {
      "image/png": "[encoded data removed]",
      "text/plain": [
       "<Figure size 1000x300 with 1 Axes>"
      ]
     },
     "metadata": {},
     "output_type": "display_data"
    },
    {
     "data": {
      "image/png": "[encoded data removed]",
      "text/plain": [
       "<Figure size 1000x300 with 1 Axes>"
      ]
     },
     "metadata": {},
     "output_type": "display_data"
    }
   ],
   "source": [
    "signalLength = numberOfSymbols*paramTx.SpS\n",
    "\n",
    "plt.plot(signalLength, timeCPU,'-o', label='CPU')\n",
    "plt.plot(signalLength, timeGPU,'-s', label='GPU')\n",
    "plt.xlabel('Length of the signal (number of samples)')\n",
    "plt.ylabel('Processing time (s)')\n",
    "plt.title(f'Launch power {paramTx.Pch_dBm:.2f} dBm')\n",
    "plt.legend()\n",
    "plt.grid()\n",
    "plt.xlim(min(signalLength), max(signalLength))\n",
    "\n",
    "plt.figure()\n",
    "plt.plot(signalLength, timeCPU/timeGPU,'-o', label='GPU speedup')\n",
    "plt.xlabel('Length of the signal (number of samples)')\n",
    "plt.ylabel('GPU speedup ($\\times$)')\n",
    "plt.legend()\n",
    "plt.grid()\n",
    "plt.xlim(min(signalLength), max(signalLength));"
   ]
  },
  {
   "cell_type": "code",
   "execution_count": 10,
   "id": "e389a47a",
   "metadata": {
    "ExecuteTime": {
     "end_time": "2024-04-25T15:22:16.469054Z",
     "start_time": "2024-04-25T15:04:10.166461Z"
    }
   },
   "outputs": [
    {
     "data": {
      "application/vnd.jupyter.widget-view+json": {
       "model_id": "7b0a693988f7415bb911beb952896dd9",
       "version_major": 2,
       "version_minor": 0
      },
      "text/plain": [
       "  0%|          | 0/7 [00:00<?, ?it/s]"
      ]
     },
     "metadata": {},
     "output_type": "display_data"
    }
   ],
   "source": [
    "timeCPU = np.zeros(len(numberOfSymbols))\n",
    "timeGPU = np.zeros(len(numberOfSymbols))\n",
    "\n",
    "paramTx.Pch_dBm = 4 # power per WDM channel [dBm]\n",
    "\n",
    "for idx, Nsymb in enumerate(tqdm(numberOfSymbols)):    \n",
    "    paramTx.Nbits = int(np.log2(paramTx.M)*Nsymb) # total number of bits per polarization\n",
    "    # generate WDM signal\n",
    "    sigWDM_Tx, symbTx_, paramTx = simpleWDMTx(paramTx)\n",
    "\n",
    "    # nonlinear signal propagation\n",
    "    start = time.time()\n",
    "    sigWDM = manakovSSF_CPU(sigWDM_Tx, paramCh)\n",
    "    end = time.time()    \n",
    "    timeCPU[idx] = end - start\n",
    "\n",
    "    # nonlinear signal propagation\n",
    "    start = time.time()\n",
    "    sigWDM = manakovSSF_GPU(sigWDM_Tx, paramCh)\n",
    "    end = time.time()    \n",
    "    timeGPU[idx] = end - start"
   ]
  },
  {
   "cell_type": "code",
   "execution_count": 13,
   "id": "25753eec",
   "metadata": {
    "ExecuteTime": {
     "end_time": "2024-04-25T15:22:56.520985Z",
     "start_time": "2024-04-25T15:22:56.148417Z"
    }
   },
   "outputs": [
    {
     "data": {
      "image/png": "[encoded data removed]",
      "text/plain": [
       "<Figure size 1000x300 with 1 Axes>"
      ]
     },
     "metadata": {},
     "output_type": "display_data"
    },
    {
     "data": {
      "image/png": "[encoded data removed]",
      "text/plain": [
       "<Figure size 1000x300 with 1 Axes>"
      ]
     },
     "metadata": {},
     "output_type": "display_data"
    }
   ],
   "source": [
    "signalLength = numberOfSymbols*paramTx.SpS\n",
    "\n",
    "plt.plot(signalLength, timeCPU,'-o', label='CPU')\n",
    "plt.plot(signalLength, timeGPU,'-s', label='GPU')\n",
    "plt.xlabel('Length of the signal (number of samples)')\n",
    "plt.ylabel('Processing time (s)')\n",
    "plt.title(f'Launch power {paramTx.Pch_dBm:.2f} dBm')\n",
    "plt.legend()\n",
    "plt.grid()\n",
    "plt.xlim(min(signalLength), max(signalLength))\n",
    "\n",
    "\n",
    "plt.figure()\n",
    "plt.plot(signalLength, timeCPU/timeGPU,'-o', label='GPU speedup')\n",
    "plt.xlabel('Length of the signal (number of samples)')\n",
    "plt.ylabel('GPU speedup ($\\\\times$)')\n",
    "plt.legend()\n",
    "plt.grid()\n",
    "plt.xlim(min(signalLength), max(signalLength));"
   ]
  },
  {
   "cell_type": "markdown",
   "id": "09e8f2a7",
   "metadata": {},
   "source": [
    "## Compilation of results (length of the signal $>10^6$ samples)\n",
    "\n",
    "\n",
    "| System configuration                     | GPU improvement  |\n",
    "|:-----------------------------------|:------------------|\n",
    "|Windows 64 bits Intel(R) Core(TM) i7-9700 CPU 3.00 GHz RAM 16.0 GB NVIDIA GeForce GTX 1060 6GB CUDA Version: 12.4| 17.5 - 20x|\n",
    "|Google Colab System RAM 12.7 GB NVIDIA Tesla T4 15GB CUDA Version: 12.2| 25x|"
   ]
  }
 ],
 "metadata": {
  "accelerator": "GPU",
  "colab": {
   "include_colab_link": true,
   "provenance": []
  },
  "jupytext": {
   "encoding": "# -*- coding: utf-8 -*-",
   "formats": "ipynb,py:light"
  },
  "kernelspec": {
   "display_name": "Python 3 (ipykernel)",
   "language": "python",
   "name": "python3"
  },
  "language_info": {
   "codemirror_mode": {
    "name": "ipython",
    "version": 3
   },
   "file_extension": ".py",
   "mimetype": "text/x-python",
   "name": "python",
   "nbconvert_exporter": "python",
   "pygments_lexer": "ipython3",
   "version": "3.11.5"
  },
  "toc": {
   "base_numbering": 1,
   "nav_menu": {},
   "number_sections": true,
   "sideBar": true,
   "skip_h1_title": true,
   "title_cell": "Table of Contents",
   "title_sidebar": "Contents",
   "toc_cell": true,
   "toc_position": {
    "height": "calc(100% - 180px)",
    "left": "10px",
    "top": "150px",
    "width": "261.719px"
   },
   "toc_section_display": true,
   "toc_window_display": false
  },
  "varInspector": {
   "cols": {
    "lenName": 16,
    "lenType": 16,
    "lenVar": 40
   },
   "kernels_config": {
    "python": {
     "delete_cmd_postfix": "",
     "delete_cmd_prefix": "del ",
     "library": "var_list.py",
     "varRefreshCmd": "print(var_dic_list())"
    },
    "r": {
     "delete_cmd_postfix": ") ",
     "delete_cmd_prefix": "rm(",
     "library": "var_list.r",
     "varRefreshCmd": "cat(var_dic_list()) "
    }
   },
   "position": {
    "height": "144.4px",
    "left": "1163px",
    "right": "20px",
    "top": "121px",
    "width": "350px"
   },
   "types_to_exclude": [
    "module",
    "function",
    "builtin_function_or_method",
    "instance",
    "_Feature"
   ],
   "window_display": false
  },
  "widgets": {
   "application/vnd.jupyter.widget-state+json": {
    "0cec9d9b71ba45018460f4942672e73b": {
     "model_module": "@jupyter-widgets/base",
     "model_module_version": "1.2.0",
     "model_name": "LayoutModel",
     "state": {
      "_model_module": "@jupyter-widgets/base",
      "_model_module_version": "1.2.0",
      "_model_name": "LayoutModel",
      "_view_count": null,
      "_view_module": "@jupyter-widgets/base",
      "_view_module_version": "1.2.0",
      "_view_name": "LayoutView",
      "align_content": null,
      "align_items": null,
      "align_self": null,
      "border": null,
      "bottom": null,
      "display": null,
      "flex": null,
      "flex_flow": null,
      "grid_area": null,
      "grid_auto_columns": null,
      "grid_auto_flow": null,
      "grid_auto_rows": null,
      "grid_column": null,
      "grid_gap": null,
      "grid_row": null,
      "grid_template_areas": null,
      "grid_template_columns": null,
      "grid_template_rows": null,
      "height": null,
      "justify_content": null,
      "justify_items": null,
      "left": null,
      "margin": null,
      "max_height": null,
      "max_width": null,
      "min_height": null,
      "min_width": null,
      "object_fit": null,
      "object_position": null,
      "order": null,
      "overflow": null,
      "overflow_x": null,
      "overflow_y": null,
      "padding": null,
      "right": null,
      "top": null,
      "visibility": null,
      "width": null
     }
    },
    "0d0d223577654c0980520ed48c4866a7": {
     "model_module": "@jupyter-widgets/controls",
     "model_module_version": "1.5.0",
     "model_name": "FloatProgressModel",
     "state": {
      "_dom_classes": [],
      "_model_module": "@jupyter-widgets/controls",
      "_model_module_version": "1.5.0",
      "_model_name": "FloatProgressModel",
      "_view_count": null,
      "_view_module": "@jupyter-widgets/controls",
      "_view_module_version": "1.5.0",
      "_view_name": "ProgressView",
      "bar_style": "success",
      "description": "",
      "description_tooltip": null,
      "layout": "IPY_MODEL_b70bb6363ff64ccbb7087900ef892eb5",
      "max": 14,
      "min": 0,
      "orientation": "horizontal",
      "style": "IPY_MODEL_d4247b94ef5c4a439cd4af9458125fc2",
      "value": 14
     }
    },
    "0ef4e5276a4344638674b547b859a129": {
     "model_module": "@jupyter-widgets/base",
     "model_module_version": "1.2.0",
     "model_name": "LayoutModel",
     "state": {
      "_model_module": "@jupyter-widgets/base",
      "_model_module_version": "1.2.0",
      "_model_name": "LayoutModel",
      "_view_count": null,
      "_view_module": "@jupyter-widgets/base",
      "_view_module_version": "1.2.0",
      "_view_name": "LayoutView",
      "align_content": null,
      "align_items": null,
      "align_self": null,
      "border": null,
      "bottom": null,
      "display": null,
      "flex": null,
      "flex_flow": null,
      "grid_area": null,
      "grid_auto_columns": null,
      "grid_auto_flow": null,
      "grid_auto_rows": null,
      "grid_column": null,
      "grid_gap": null,
      "grid_row": null,
      "grid_template_areas": null,
      "grid_template_columns": null,
      "grid_template_rows": null,
      "height": null,
      "justify_content": null,
      "justify_items": null,
      "left": null,
      "margin": null,
      "max_height": null,
      "max_width": null,
      "min_height": null,
      "min_width": null,
      "object_fit": null,
      "object_position": null,
      "order": null,
      "overflow": null,
      "overflow_x": null,
      "overflow_y": null,
      "padding": null,
      "right": null,
      "top": null,
      "visibility": null,
      "width": null
     }
    },
    "305e5dc45df947c4b3640746643c4a26": {
     "model_module": "@jupyter-widgets/controls",
     "model_module_version": "1.5.0",
     "model_name": "HBoxModel",
     "state": {
      "_dom_classes": [],
      "_model_module": "@jupyter-widgets/controls",
      "_model_module_version": "1.5.0",
      "_model_name": "HBoxModel",
      "_view_count": null,
      "_view_module": "@jupyter-widgets/controls",
      "_view_module_version": "1.5.0",
      "_view_name": "HBoxView",
      "box_style": "",
      "children": [
       "IPY_MODEL_b07e3d1c0eee407ba3a2b6b3498edb61",
       "IPY_MODEL_e0f8d22f269246b9b4ed8c6c7e61aeae",
       "IPY_MODEL_5b6ae8306e70477580b6203d44e33a38"
      ],
      "layout": "IPY_MODEL_0ef4e5276a4344638674b547b859a129"
     }
    },
    "32ef48a5dd1d4a2cb94e5409dd572d74": {
     "model_module": "@jupyter-widgets/base",
     "model_module_version": "1.2.0",
     "model_name": "LayoutModel",
     "state": {
      "_model_module": "@jupyter-widgets/base",
      "_model_module_version": "1.2.0",
      "_model_name": "LayoutModel",
      "_view_count": null,
      "_view_module": "@jupyter-widgets/base",
      "_view_module_version": "1.2.0",
      "_view_name": "LayoutView",
      "align_content": null,
      "align_items": null,
      "align_self": null,
      "border": null,
      "bottom": null,
      "display": null,
      "flex": null,
      "flex_flow": null,
      "grid_area": null,
      "grid_auto_columns": null,
      "grid_auto_flow": null,
      "grid_auto_rows": null,
      "grid_column": null,
      "grid_gap": null,
      "grid_row": null,
      "grid_template_areas": null,
      "grid_template_columns": null,
      "grid_template_rows": null,
      "height": null,
      "justify_content": null,
      "justify_items": null,
      "left": null,
      "margin": null,
      "max_height": null,
      "max_width": null,
      "min_height": null,
      "min_width": null,
      "object_fit": null,
      "object_position": null,
      "order": null,
      "overflow": null,
      "overflow_x": null,
      "overflow_y": null,
      "padding": null,
      "right": null,
      "top": null,
      "visibility": null,
      "width": null
     }
    },
    "5773596ed660451aac75b1f0b2a052e5": {
     "model_module": "@jupyter-widgets/base",
     "model_module_version": "1.2.0",
     "model_name": "LayoutModel",
     "state": {
      "_model_module": "@jupyter-widgets/base",
      "_model_module_version": "1.2.0",
      "_model_name": "LayoutModel",
      "_view_count": null,
      "_view_module": "@jupyter-widgets/base",
      "_view_module_version": "1.2.0",
      "_view_name": "LayoutView",
      "align_content": null,
      "align_items": null,
      "align_self": null,
      "border": null,
      "bottom": null,
      "display": null,
      "flex": null,
      "flex_flow": null,
      "grid_area": null,
      "grid_auto_columns": null,
      "grid_auto_flow": null,
      "grid_auto_rows": null,
      "grid_column": null,
      "grid_gap": null,
      "grid_row": null,
      "grid_template_areas": null,
      "grid_template_columns": null,
      "grid_template_rows": null,
      "height": null,
      "justify_content": null,
      "justify_items": null,
      "left": null,
      "margin": null,
      "max_height": null,
      "max_width": null,
      "min_height": null,
      "min_width": null,
      "object_fit": null,
      "object_position": null,
      "order": null,
      "overflow": null,
      "overflow_x": null,
      "overflow_y": null,
      "padding": null,
      "right": null,
      "top": null,
      "visibility": null,
      "width": null
     }
    },
    "596d425cdf7f4a0697238e3664c5195f": {
     "model_module": "@jupyter-widgets/controls",
     "model_module_version": "1.5.0",
     "model_name": "DescriptionStyleModel",
     "state": {
      "_model_module": "@jupyter-widgets/controls",
      "_model_module_version": "1.5.0",
      "_model_name": "DescriptionStyleModel",
      "_view_count": null,
      "_view_module": "@jupyter-widgets/base",
      "_view_module_version": "1.2.0",
      "_view_name": "StyleView",
      "description_width": ""
     }
    },
    "5b6ae8306e70477580b6203d44e33a38": {
     "model_module": "@jupyter-widgets/controls",
     "model_module_version": "1.5.0",
     "model_name": "HTMLModel",
     "state": {
      "_dom_classes": [],
      "_model_module": "@jupyter-widgets/controls",
      "_model_module_version": "1.5.0",
      "_model_name": "HTMLModel",
      "_view_count": null,
      "_view_module": "@jupyter-widgets/controls",
      "_view_module_version": "1.5.0",
      "_view_name": "HTMLView",
      "description": "",
      "description_tooltip": null,
      "layout": "IPY_MODEL_5773596ed660451aac75b1f0b2a052e5",
      "placeholder": "​",
      "style": "IPY_MODEL_f6e0856c07ed4069940d749b31c5d6d5",
      "value": " 5/5 [00:29&lt;00:00,  2.62s/it]"
     }
    },
    "6a786005faa04fd8b7c5e69dc70df06a": {
     "model_module": "@jupyter-widgets/base",
     "model_module_version": "1.2.0",
     "model_name": "LayoutModel",
     "state": {
      "_model_module": "@jupyter-widgets/base",
      "_model_module_version": "1.2.0",
      "_model_name": "LayoutModel",
      "_view_count": null,
      "_view_module": "@jupyter-widgets/base",
      "_view_module_version": "1.2.0",
      "_view_name": "LayoutView",
      "align_content": null,
      "align_items": null,
      "align_self": null,
      "border": null,
      "bottom": null,
      "display": null,
      "flex": null,
      "flex_flow": null,
      "grid_area": null,
      "grid_auto_columns": null,
      "grid_auto_flow": null,
      "grid_auto_rows": null,
      "grid_column": null,
      "grid_gap": null,
      "grid_row": null,
      "grid_template_areas": null,
      "grid_template_columns": null,
      "grid_template_rows": null,
      "height": null,
      "justify_content": null,
      "justify_items": null,
      "left": null,
      "margin": null,
      "max_height": null,
      "max_width": null,
      "min_height": null,
      "min_width": null,
      "object_fit": null,
      "object_position": null,
      "order": null,
      "overflow": null,
      "overflow_x": null,
      "overflow_y": null,
      "padding": null,
      "right": null,
      "top": null,
      "visibility": null,
      "width": null
     }
    },
    "7b1b87f7b77049a691df25723928eef3": {
     "model_module": "@jupyter-widgets/base",
     "model_module_version": "1.2.0",
     "model_name": "LayoutModel",
     "state": {
      "_model_module": "@jupyter-widgets/base",
      "_model_module_version": "1.2.0",
      "_model_name": "LayoutModel",
      "_view_count": null,
      "_view_module": "@jupyter-widgets/base",
      "_view_module_version": "1.2.0",
      "_view_name": "LayoutView",
      "align_content": null,
      "align_items": null,
      "align_self": null,
      "border": null,
      "bottom": null,
      "display": null,
      "flex": null,
      "flex_flow": null,
      "grid_area": null,
      "grid_auto_columns": null,
      "grid_auto_flow": null,
      "grid_auto_rows": null,
      "grid_column": null,
      "grid_gap": null,
      "grid_row": null,
      "grid_template_areas": null,
      "grid_template_columns": null,
      "grid_template_rows": null,
      "height": null,
      "justify_content": null,
      "justify_items": null,
      "left": null,
      "margin": null,
      "max_height": null,
      "max_width": null,
      "min_height": null,
      "min_width": null,
      "object_fit": null,
      "object_position": null,
      "order": null,
      "overflow": null,
      "overflow_x": null,
      "overflow_y": null,
      "padding": null,
      "right": null,
      "top": null,
      "visibility": null,
      "width": null
     }
    },
    "92a22dde2b5e4ab882f824d5dff0d377": {
     "model_module": "@jupyter-widgets/controls",
     "model_module_version": "1.5.0",
     "model_name": "HTMLModel",
     "state": {
      "_dom_classes": [],
      "_model_module": "@jupyter-widgets/controls",
      "_model_module_version": "1.5.0",
      "_model_name": "HTMLModel",
      "_view_count": null,
      "_view_module": "@jupyter-widgets/controls",
      "_view_module_version": "1.5.0",
      "_view_name": "HTMLView",
      "description": "",
      "description_tooltip": null,
      "layout": "IPY_MODEL_6a786005faa04fd8b7c5e69dc70df06a",
      "placeholder": "​",
      "style": "IPY_MODEL_994d17059a9b47f0b2ed3654712fb0c3",
      "value": " 14/14 [00:57&lt;00:00,  3.82s/it]"
     }
    },
    "994d17059a9b47f0b2ed3654712fb0c3": {
     "model_module": "@jupyter-widgets/controls",
     "model_module_version": "1.5.0",
     "model_name": "DescriptionStyleModel",
     "state": {
      "_model_module": "@jupyter-widgets/controls",
      "_model_module_version": "1.5.0",
      "_model_name": "DescriptionStyleModel",
      "_view_count": null,
      "_view_module": "@jupyter-widgets/base",
      "_view_module_version": "1.2.0",
      "_view_name": "StyleView",
      "description_width": ""
     }
    },
    "9eef6ad9e86b4434b244d76fb90653b2": {
     "model_module": "@jupyter-widgets/base",
     "model_module_version": "1.2.0",
     "model_name": "LayoutModel",
     "state": {
      "_model_module": "@jupyter-widgets/base",
      "_model_module_version": "1.2.0",
      "_model_name": "LayoutModel",
      "_view_count": null,
      "_view_module": "@jupyter-widgets/base",
      "_view_module_version": "1.2.0",
      "_view_name": "LayoutView",
      "align_content": null,
      "align_items": null,
      "align_self": null,
      "border": null,
      "bottom": null,
      "display": null,
      "flex": null,
      "flex_flow": null,
      "grid_area": null,
      "grid_auto_columns": null,
      "grid_auto_flow": null,
      "grid_auto_rows": null,
      "grid_column": null,
      "grid_gap": null,
      "grid_row": null,
      "grid_template_areas": null,
      "grid_template_columns": null,
      "grid_template_rows": null,
      "height": null,
      "justify_content": null,
      "justify_items": null,
      "left": null,
      "margin": null,
      "max_height": null,
      "max_width": null,
      "min_height": null,
      "min_width": null,
      "object_fit": null,
      "object_position": null,
      "order": null,
      "overflow": null,
      "overflow_x": null,
      "overflow_y": null,
      "padding": null,
      "right": null,
      "top": null,
      "visibility": null,
      "width": null
     }
    },
    "b07e3d1c0eee407ba3a2b6b3498edb61": {
     "model_module": "@jupyter-widgets/controls",
     "model_module_version": "1.5.0",
     "model_name": "HTMLModel",
     "state": {
      "_dom_classes": [],
      "_model_module": "@jupyter-widgets/controls",
      "_model_module_version": "1.5.0",
      "_model_name": "HTMLModel",
      "_view_count": null,
      "_view_module": "@jupyter-widgets/controls",
      "_view_module_version": "1.5.0",
      "_view_name": "HTMLView",
      "description": "",
      "description_tooltip": null,
      "layout": "IPY_MODEL_0cec9d9b71ba45018460f4942672e73b",
      "placeholder": "​",
      "style": "IPY_MODEL_596d425cdf7f4a0697238e3664c5195f",
      "value": "100%"
     }
    },
    "b70bb6363ff64ccbb7087900ef892eb5": {
     "model_module": "@jupyter-widgets/base",
     "model_module_version": "1.2.0",
     "model_name": "LayoutModel",
     "state": {
      "_model_module": "@jupyter-widgets/base",
      "_model_module_version": "1.2.0",
      "_model_name": "LayoutModel",
      "_view_count": null,
      "_view_module": "@jupyter-widgets/base",
      "_view_module_version": "1.2.0",
      "_view_name": "LayoutView",
      "align_content": null,
      "align_items": null,
      "align_self": null,
      "border": null,
      "bottom": null,
      "display": null,
      "flex": null,
      "flex_flow": null,
      "grid_area": null,
      "grid_auto_columns": null,
      "grid_auto_flow": null,
      "grid_auto_rows": null,
      "grid_column": null,
      "grid_gap": null,
      "grid_row": null,
      "grid_template_areas": null,
      "grid_template_columns": null,
      "grid_template_rows": null,
      "height": null,
      "justify_content": null,
      "justify_items": null,
      "left": null,
      "margin": null,
      "max_height": null,
      "max_width": null,
      "min_height": null,
      "min_width": null,
      "object_fit": null,
      "object_position": null,
      "order": null,
      "overflow": null,
      "overflow_x": null,
      "overflow_y": null,
      "padding": null,
      "right": null,
      "top": null,
      "visibility": null,
      "width": null
     }
    },
    "c5a9e5d034e64b00b295e93140f51e72": {
     "model_module": "@jupyter-widgets/controls",
     "model_module_version": "1.5.0",
     "model_name": "DescriptionStyleModel",
     "state": {
      "_model_module": "@jupyter-widgets/controls",
      "_model_module_version": "1.5.0",
      "_model_name": "DescriptionStyleModel",
      "_view_count": null,
      "_view_module": "@jupyter-widgets/base",
      "_view_module_version": "1.2.0",
      "_view_name": "StyleView",
      "description_width": ""
     }
    },
    "d4247b94ef5c4a439cd4af9458125fc2": {
     "model_module": "@jupyter-widgets/controls",
     "model_module_version": "1.5.0",
     "model_name": "ProgressStyleModel",
     "state": {
      "_model_module": "@jupyter-widgets/controls",
      "_model_module_version": "1.5.0",
      "_model_name": "ProgressStyleModel",
      "_view_count": null,
      "_view_module": "@jupyter-widgets/base",
      "_view_module_version": "1.2.0",
      "_view_name": "StyleView",
      "bar_color": null,
      "description_width": ""
     }
    },
    "d751e4cdab95433f8fabdaebf41d630a": {
     "model_module": "@jupyter-widgets/controls",
     "model_module_version": "1.5.0",
     "model_name": "ProgressStyleModel",
     "state": {
      "_model_module": "@jupyter-widgets/controls",
      "_model_module_version": "1.5.0",
      "_model_name": "ProgressStyleModel",
      "_view_count": null,
      "_view_module": "@jupyter-widgets/base",
      "_view_module_version": "1.2.0",
      "_view_name": "StyleView",
      "bar_color": null,
      "description_width": ""
     }
    },
    "d7ec57b1b19d4660a0548563dd43f97c": {
     "model_module": "@jupyter-widgets/controls",
     "model_module_version": "1.5.0",
     "model_name": "HBoxModel",
     "state": {
      "_dom_classes": [],
      "_model_module": "@jupyter-widgets/controls",
      "_model_module_version": "1.5.0",
      "_model_name": "HBoxModel",
      "_view_count": null,
      "_view_module": "@jupyter-widgets/controls",
      "_view_module_version": "1.5.0",
      "_view_name": "HBoxView",
      "box_style": "",
      "children": [
       "IPY_MODEL_f973387453444cc4b5fbec8658506a3a",
       "IPY_MODEL_0d0d223577654c0980520ed48c4866a7",
       "IPY_MODEL_92a22dde2b5e4ab882f824d5dff0d377"
      ],
      "layout": "IPY_MODEL_7b1b87f7b77049a691df25723928eef3"
     }
    },
    "e0f8d22f269246b9b4ed8c6c7e61aeae": {
     "model_module": "@jupyter-widgets/controls",
     "model_module_version": "1.5.0",
     "model_name": "FloatProgressModel",
     "state": {
      "_dom_classes": [],
      "_model_module": "@jupyter-widgets/controls",
      "_model_module_version": "1.5.0",
      "_model_name": "FloatProgressModel",
      "_view_count": null,
      "_view_module": "@jupyter-widgets/controls",
      "_view_module_version": "1.5.0",
      "_view_name": "ProgressView",
      "bar_style": "success",
      "description": "",
      "description_tooltip": null,
      "layout": "IPY_MODEL_9eef6ad9e86b4434b244d76fb90653b2",
      "max": 5,
      "min": 0,
      "orientation": "horizontal",
      "style": "IPY_MODEL_d751e4cdab95433f8fabdaebf41d630a",
      "value": 5
     }
    },
    "f6e0856c07ed4069940d749b31c5d6d5": {
     "model_module": "@jupyter-widgets/controls",
     "model_module_version": "1.5.0",
     "model_name": "DescriptionStyleModel",
     "state": {
      "_model_module": "@jupyter-widgets/controls",
      "_model_module_version": "1.5.0",
      "_model_name": "DescriptionStyleModel",
      "_view_count": null,
      "_view_module": "@jupyter-widgets/base",
      "_view_module_version": "1.2.0",
      "_view_name": "StyleView",
      "description_width": ""
     }
    },
    "f973387453444cc4b5fbec8658506a3a": {
     "model_module": "@jupyter-widgets/controls",
     "model_module_version": "1.5.0",
     "model_name": "HTMLModel",
     "state": {
      "_dom_classes": [],
      "_model_module": "@jupyter-widgets/controls",
      "_model_module_version": "1.5.0",
      "_model_name": "HTMLModel",
      "_view_count": null,
      "_view_module": "@jupyter-widgets/controls",
      "_view_module_version": "1.5.0",
      "_view_name": "HTMLView",
      "description": "",
      "description_tooltip": null,
      "layout": "IPY_MODEL_32ef48a5dd1d4a2cb94e5409dd572d74",
      "placeholder": "​",
      "style": "IPY_MODEL_c5a9e5d034e64b00b295e93140f51e72",
      "value": "100%"
     }
    }
   }
  }
 },
 "nbformat": 4,
 "nbformat_minor": 5
}
