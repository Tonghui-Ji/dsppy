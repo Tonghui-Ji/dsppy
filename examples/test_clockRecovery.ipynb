{
 "cells": [
  {
   "cell_type": "markdown",
   "id": "d6fc8cf4",
   "metadata": {},
   "source": [
    "<a href=\"https://colab.research.google.com/github/edsonportosilva/OptiCommPy/blob/main/examples/test_modulation.ipynb\" target=\"_parent\"><img src=\"https://colab.research.google.com/assets/colab-badge.svg\" alt=\"Open In Colab\"/></a>"
   ]
  },
  {
   "cell_type": "markdown",
   "id": "61197be5",
   "metadata": {},
   "source": [
    "# Test clock Recovery "
   ]
  },
  {
   "cell_type": "code",
   "execution_count": 1,
   "id": "2730db3c",
   "metadata": {
    "ExecuteTime": {
     "end_time": "2024-02-10T23:40:38.341858Z",
     "start_time": "2024-02-10T23:40:38.309531Z"
    }
   },
   "outputs": [],
   "source": [
    "if 'google.colab' in str(get_ipython()):    \n",
    "    ! git clone -b main https://github.com/edsonportosilva/OptiCommPy\n",
    "    from os import chdir as cd\n",
    "    cd('/content/OptiCommPy/')\n",
    "    ! pip install . "
   ]
  },
  {
   "cell_type": "code",
   "execution_count": 2,
   "id": "b701cab7",
   "metadata": {
    "ExecuteTime": {
     "end_time": "2024-02-10T23:40:44.703583Z",
     "start_time": "2024-02-10T23:40:38.348723Z"
    }
   },
   "outputs": [],
   "source": [
    "from optic.dsp.core import firFilter, pulseShape, pnorm, upsample, clockSamplingInterp\n",
    "from optic.utils import parameters\n",
    "from optic.plot import pconst\n",
    "from optic.comm.modulation import modulateGray\n",
    "from optic.comm.metrics import fastBERcalc\n",
    "import matplotlib.pyplot as plt\n",
    "import numpy as np\n",
    "from numba import njit\n",
    "\n",
    "from optic.models.devices import adc\n",
    "from optic.dsp.clockRecovery import gardnerClockRecovery"
   ]
  },
  {
   "cell_type": "code",
   "execution_count": 23,
   "id": "f018dcc9",
   "metadata": {
    "ExecuteTime": {
     "end_time": "2024-02-11T00:03:02.529712Z",
     "start_time": "2024-02-11T00:03:02.399189Z"
    }
   },
   "outputs": [
    {
     "name": "stdout",
     "output_type": "stream",
     "text": [
      "The autoreload extension is already loaded. To reload it, use:\n",
      "  %reload_ext autoreload\n"
     ]
    }
   ],
   "source": [
    "%load_ext autoreload\n",
    "%autoreload 2"
   ]
  },
  {
   "cell_type": "markdown",
   "id": "6f128ae2",
   "metadata": {},
   "source": [
    "## Test clock recovery"
   ]
  },
  {
   "cell_type": "code",
   "execution_count": 72,
   "id": "4aae35c1",
   "metadata": {
    "ExecuteTime": {
     "end_time": "2024-02-11T01:32:32.986088Z",
     "start_time": "2024-02-11T01:32:25.881041Z"
    },
    "hide_input": false
   },
   "outputs": [
    {
     "name": "stdout",
     "output_type": "stream",
     "text": [
      "sampling clock deviation (ΔFs) = 62.50 ppm\n"
     ]
    },
    {
     "ename": "ValueError",
     "evalue": "setting an array element with a sequence.",
     "output_type": "error",
     "traceback": [
      "\u001b[1;31m---------------------------------------------------------------------------\u001b[0m",
      "\u001b[1;31mTypeError\u001b[0m                                 Traceback (most recent call last)",
      "\u001b[1;31mTypeError\u001b[0m: float() argument must be a string or a number, not 'list'",
      "\nThe above exception was the direct cause of the following exception:\n",
      "\u001b[1;31mValueError\u001b[0m                                Traceback (most recent call last)",
      "\u001b[1;32m~\\AppData\\Local\\Temp\\ipykernel_5028\\2355430773.py\u001b[0m in \u001b[0;36m<module>\u001b[1;34m\u001b[0m\n\u001b[0;32m     55\u001b[0m \u001b[0mparamCLKREC\u001b[0m\u001b[1;33m.\u001b[0m\u001b[0mlpad\u001b[0m \u001b[1;33m=\u001b[0m \u001b[1;36m2\u001b[0m\u001b[1;33m\u001b[0m\u001b[1;33m\u001b[0m\u001b[0m\n\u001b[0;32m     56\u001b[0m \u001b[1;33m\u001b[0m\u001b[0m\n\u001b[1;32m---> 57\u001b[1;33m \u001b[0moutCLK\u001b[0m\u001b[1;33m,\u001b[0m \u001b[0mted_values\u001b[0m \u001b[1;33m=\u001b[0m \u001b[0mgardnerClockRecovery\u001b[0m\u001b[1;33m(\u001b[0m\u001b[0msigRx\u001b[0m\u001b[1;33m,\u001b[0m \u001b[0mparamCLKREC\u001b[0m\u001b[1;33m)\u001b[0m\u001b[1;33m\u001b[0m\u001b[1;33m\u001b[0m\u001b[0m\n\u001b[0m\u001b[0;32m     58\u001b[0m \u001b[1;33m\u001b[0m\u001b[0m\n\u001b[0;32m     59\u001b[0m \u001b[1;31m# plot curve of estimated timmig error over time\u001b[0m\u001b[1;33m\u001b[0m\u001b[1;33m\u001b[0m\u001b[0m\n",
      "\u001b[1;32mc:\\users\\edson\\onedrive\\documentos\\github\\opticommpy-private\\optic\\dsp\\clockRecovery.py\u001b[0m in \u001b[0;36mgardnerClockRecovery\u001b[1;34m(Ei, param)\u001b[0m\n\u001b[0;32m    167\u001b[0m \u001b[1;33m\u001b[0m\u001b[0m\n\u001b[0;32m    168\u001b[0m     \u001b[1;32mif\u001b[0m \u001b[0mreturnTiming\u001b[0m\u001b[1;33m:\u001b[0m\u001b[1;33m\u001b[0m\u001b[1;33m\u001b[0m\u001b[0m\n\u001b[1;32m--> 169\u001b[1;33m         \u001b[1;32mreturn\u001b[0m \u001b[0mEo\u001b[0m\u001b[1;33m,\u001b[0m \u001b[0mnp\u001b[0m\u001b[1;33m.\u001b[0m\u001b[0masarray\u001b[0m\u001b[1;33m(\u001b[0m\u001b[0mtiming_values\u001b[0m\u001b[1;33m)\u001b[0m\u001b[1;33m.\u001b[0m\u001b[0mastype\u001b[0m\u001b[1;33m(\u001b[0m\u001b[1;34m\"float32\"\u001b[0m\u001b[1;33m)\u001b[0m\u001b[1;33m.\u001b[0m\u001b[0mT\u001b[0m\u001b[1;33m\u001b[0m\u001b[1;33m\u001b[0m\u001b[0m\n\u001b[0m\u001b[0;32m    170\u001b[0m     \u001b[1;32melse\u001b[0m\u001b[1;33m:\u001b[0m\u001b[1;33m\u001b[0m\u001b[1;33m\u001b[0m\u001b[0m\n\u001b[0;32m    171\u001b[0m         \u001b[1;32mreturn\u001b[0m \u001b[0mEo\u001b[0m\u001b[1;33m\u001b[0m\u001b[1;33m\u001b[0m\u001b[0m\n",
      "\u001b[1;31mValueError\u001b[0m: setting an array element with a sequence."
     ]
    }
   ],
   "source": [
    "# simulation parameters\n",
    "SpS = 16          # samples per symbol\n",
    "M = 16            # order of the modulation format\n",
    "Rs = 32e9         # Symbol rate (for OOK case Rs = Rb)\n",
    "Fs = SpS*Rs       # Sampling frequency in samples/second\n",
    "Ts = 1/Fs         # Sampling period\n",
    "\n",
    "# generate pseudo-random bit sequence\n",
    "bitsTx = np.random.randint(2, size=int(np.log2(M)*128e3))\n",
    "\n",
    "# generate ook modulated symbol sequence\n",
    "symbTx = modulateGray(bitsTx, M, 'qam')    \n",
    "symbTx = pnorm(symbTx) # power normalization\n",
    "\n",
    "symbTx = symbTx.reshape(-1,2)\n",
    "\n",
    "# upsampling\n",
    "symbolsUp = upsample(symbTx, SpS)\n",
    "\n",
    "# typical NRZ pulse\n",
    "pulse = pulseShape('rc', SpS, N=2001, alpha=0.1)\n",
    "pulse = pulse/max(abs(pulse))\n",
    "\n",
    "# pulse shaping\n",
    "sigTx = firFilter(pulse, symbolsUp)\n",
    "\n",
    "# resample signal to non-integer samples/symbol rate\n",
    "downSample = 7.9995\n",
    "\n",
    "ΔFs = (Fs/downSample-Fs/8)/(Fs/8)*1e6\n",
    "\n",
    "print(f'sampling clock deviation (ΔFs) = {ΔFs:.2f} ppm')\n",
    "\n",
    "#sigRxRef = clockSamplingInterp(sigTx.reshape(-1,1), Fs, Fs/8, 0)\n",
    "\n",
    "# ADC input parameters\n",
    "paramADC = parameters()\n",
    "paramADC.Fs_in = Fs\n",
    "paramADC.Fs_out = Fs/downSample\n",
    "paramADC.jitter_rms = 0*400e-15\n",
    "paramADC.nBits =  8\n",
    "paramADC.Vmax = 2.5\n",
    "paramADC.Vmin = -2.5\n",
    "paramADC.AAF = False\n",
    "paramADC.N = 1001\n",
    "\n",
    "sigRx = adc(sigTx, paramADC)\n",
    "\n",
    "# clock recovery with Gardner's algorithm\n",
    "paramCLKREC = parameters()\n",
    "paramCLKREC.isNyquist = True\n",
    "paramCLKREC.returnTiming = True\n",
    "paramCLKREC.ki = 1e-6\n",
    "paramCLKREC.kp = 1e-4\n",
    "paramCLKREC.lpad = 2\n",
    "\n",
    "outCLK, ted_values = gardnerClockRecovery(sigRx, paramCLKREC)\n",
    "\n",
    "# plot curve of estimated timmig error over time\n",
    "plt.figure()\n",
    "plt.plot(ted_values, label = 'timing')\n",
    "plt.xlabel('sample')\n",
    "plt.grid()\n",
    "plt.xlim([0, len(sigRx)])\n",
    "plt.legend()\n",
    "\n",
    "# plot received constellations without and with clock recovery\n",
    "discard = 10000\n",
    "pconst(sigRx[discard::2], pType='fancy');\n",
    "pconst(outCLK[discard::2],pType='fancy');\n",
    "\n",
    "# Check BER\n",
    "symbRx = outCLK[0::2,:]\n",
    "BER, _, _ = fastBERcalc(symbRx[discard:-discard,:], symbTx[discard:-discard,:], M, 'qam')\n",
    "\n",
    "for indMode in range(BER.shape[0]):\n",
    "    print(f'Mode {indMode}: BER = {BER[indMode]:.2e}')"
   ]
  },
  {
   "cell_type": "code",
   "execution_count": null,
   "id": "95342b5d",
   "metadata": {},
   "outputs": [],
   "source": []
  }
 ],
 "metadata": {
  "colab": {
   "provenance": []
  },
  "jupytext": {
   "encoding": "# -*- coding: utf-8 -*-",
   "formats": "ipynb,py:light"
  },
  "kernelspec": {
   "display_name": "Python 3 (ipykernel)",
   "language": "python",
   "name": "python3"
  },
  "language_info": {
   "codemirror_mode": {
    "name": "ipython",
    "version": 3
   },
   "file_extension": ".py",
   "mimetype": "text/x-python",
   "name": "python",
   "nbconvert_exporter": "python",
   "pygments_lexer": "ipython3",
   "version": "3.9.13"
  },
  "toc": {
   "base_numbering": 1,
   "nav_menu": {},
   "number_sections": true,
   "sideBar": true,
   "skip_h1_title": true,
   "title_cell": "Table of Contents",
   "title_sidebar": "Contents",
   "toc_cell": true,
   "toc_position": {},
   "toc_section_display": true,
   "toc_window_display": false
  },
  "varInspector": {
   "cols": {
    "lenName": 16,
    "lenType": 16,
    "lenVar": 40
   },
   "kernels_config": {
    "python": {
     "delete_cmd_postfix": "",
     "delete_cmd_prefix": "del ",
     "library": "var_list.py",
     "varRefreshCmd": "print(var_dic_list())"
    },
    "r": {
     "delete_cmd_postfix": ") ",
     "delete_cmd_prefix": "rm(",
     "library": "var_list.r",
     "varRefreshCmd": "cat(var_dic_list()) "
    }
   },
   "types_to_exclude": [
    "module",
    "function",
    "builtin_function_or_method",
    "instance",
    "_Feature"
   ],
   "window_display": false
  }
 },
 "nbformat": 4,
 "nbformat_minor": 5
}
