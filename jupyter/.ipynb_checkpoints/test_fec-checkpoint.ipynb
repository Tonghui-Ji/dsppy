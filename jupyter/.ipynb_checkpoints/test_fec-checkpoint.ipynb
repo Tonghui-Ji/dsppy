{
 "cells": [
  {
   "cell_type": "code",
   "execution_count": 1,
   "id": "b701cab7",
   "metadata": {
    "ExecuteTime": {
     "end_time": "2021-11-26T03:37:58.666193Z",
     "start_time": "2021-11-26T03:37:53.213791Z"
    }
   },
   "outputs": [],
   "source": [
    "from commpy.modulation import QAMModem, PSKModem\n",
    "from optic.metrics import signal_power, calcLLR, fastBERcalc\n",
    "from optic.fec import ldpcEncode, ldpcDecode\n",
    "import matplotlib.pyplot as plt\n",
    "import numpy as np\n",
    "import scipy as sp\n",
    "from scipy import io\n",
    "from tqdm.notebook import tqdm\n",
    "from numba import njit\n",
    "\n",
    "import os.path as path"
   ]
  },
  {
   "cell_type": "code",
   "execution_count": 2,
   "id": "83907e1c",
   "metadata": {
    "ExecuteTime": {
     "end_time": "2021-11-23T21:06:20.584594Z",
     "start_time": "2021-11-23T21:06:20.571602Z"
    }
   },
   "outputs": [],
   "source": [
    "from commpy.channelcoding import ldpc\n",
    "from commpy.channelcoding.ldpc import triang_ldpc_systematic_encode as encodeLDPC\n",
    "from commpy.channelcoding.ldpc import ldpc_bp_decode as decodeLDPC\n",
    "from commpy.channelcoding.interleavers import RandInterlv"
   ]
  },
  {
   "cell_type": "code",
   "execution_count": 3,
   "id": "f018dcc9",
   "metadata": {
    "ExecuteTime": {
     "end_time": "2021-11-23T21:06:20.727508Z",
     "start_time": "2021-11-23T21:06:20.588592Z"
    }
   },
   "outputs": [],
   "source": [
    "%load_ext autoreload\n",
    "%autoreload 2"
   ]
  },
  {
   "cell_type": "code",
   "execution_count": 4,
   "id": "b7f55aa5",
   "metadata": {
    "ExecuteTime": {
     "end_time": "2021-11-23T21:06:20.869423Z",
     "start_time": "2021-11-23T21:06:20.729506Z"
    }
   },
   "outputs": [],
   "source": [
    "@njit\n",
    "def awgn(tx, noiseVar):\n",
    "    \n",
    "    σ        = np.sqrt(noiseVar)\n",
    "    noise    = np.random.normal(0,σ, tx.size) + 1j*np.random.normal(0,σ, tx.size)\n",
    "    noise    = 1/np.sqrt(2)*noise\n",
    "    \n",
    "    rx = tx + noise\n",
    "    \n",
    "    return rx"
   ]
  },
  {
   "cell_type": "markdown",
   "id": "d73a900d",
   "metadata": {},
   "source": [
    "## Create LDPCparam files"
   ]
  },
  {
   "cell_type": "code",
   "execution_count": 34,
   "id": "a5921eee",
   "metadata": {
    "ExecuteTime": {
     "end_time": "2021-11-23T21:06:21.012379Z",
     "start_time": "2021-11-23T21:06:20.871417Z"
    }
   },
   "outputs": [],
   "source": [
    "# pathdir = r'C:\\Users\\edson.DESKTOP-54IJM4F\\Desktop\\DVBS2'\n",
    "\n",
    "# d = sp.io.loadmat(pathdir+'\\LDPC_ARJA_1280b_R45.mat')\n",
    "# H = d['H']\n",
    "\n",
    "# # H = d['LDPC']['H'] # parity check matrix\n",
    "# # H = H[0][0][0][0][0]\n",
    "# H = sp.sparse.csr_matrix.todense(H).astype(np.int8)\n",
    "# H = np.asarray(H)\n",
    "\n",
    "# file_path = r'C:\\Users\\edson.DESKTOP-54IJM4F\\Documents\\GitHub\\OptiCommPy-private\\optic\\fecParams\\LDPC_ARJA_1280b_R45.txt'\n",
    "\n",
    "# ldpc.write_ldpc_params(H, file_path)"
   ]
  },
  {
   "cell_type": "code",
   "execution_count": 5,
   "id": "db4f38c2",
   "metadata": {
    "ExecuteTime": {
     "end_time": "2021-11-23T21:06:21.154289Z",
     "start_time": "2021-11-23T21:06:21.014381Z"
    }
   },
   "outputs": [
    {
     "data": {
      "text/plain": [
       "'C:\\\\Users\\\\edson.DESKTOP-54IJM4F\\\\Documents\\\\GitHub\\\\OptiCommPy-private\\\\optic\\\\fecParams\\\\LDPC_DVBS2_64800b_R56.txt'"
      ]
     },
     "execution_count": 5,
     "metadata": {},
     "output_type": "execute_result"
    }
   ],
   "source": [
    "# FEC parameters\n",
    "family = \"DVBS2\"\n",
    "R = 56\n",
    "n = 64800\n",
    "\n",
    "mainDir  = path.abspath(path.join(\"../\")) \n",
    "filename = '\\LDPC_' + family + '_' + str(n) + 'b_R' + str(R) + '.txt'\n",
    "filePath = mainDir + r'\\optic\\fecParams' + filename\n",
    "filePath"
   ]
  },
  {
   "cell_type": "code",
   "execution_count": 7,
   "id": "187ef8e1",
   "metadata": {},
   "outputs": [],
   "source": [
    "#LDPCparams['filemane'][12:]"
   ]
  },
  {
   "cell_type": "code",
   "execution_count": 7,
   "id": "4327ead5",
   "metadata": {
    "ExecuteTime": {
     "end_time": "2021-11-23T21:06:39.909383Z",
     "start_time": "2021-11-23T21:06:21.157288Z"
    },
    "lines_to_next_cell": 0
   },
   "outputs": [
    {
     "name": "stdout",
     "output_type": "stream",
     "text": [
      "BER = 2.65e-02\n",
      "BERpostFEC = 0.00e+00\n",
      "Number of bits =  1036800\n"
     ]
    }
   ],
   "source": [
    "# Run AWGN simulation \n",
    "EbN0dB = 10\n",
    "M      = 64\n",
    "Nwords = 16\n",
    "nIter  = 10\n",
    "\n",
    "# FEC parameters\n",
    "LDPCparams = ldpc.get_ldpc_code_params(filePath)\n",
    "K = LDPCparams['n_vnodes'] - LDPCparams['n_cnodes']\n",
    "\n",
    "LDPCparams['filename'] = filename\n",
    "\n",
    "# modulation parameters\n",
    "mod = QAMModem(m=M)\n",
    "constSymb = mod.constellation\n",
    "bitMap = mod.demodulate(constSymb, demod_type=\"hard\")\n",
    "bitMap = bitMap.reshape(-1, int(np.log2(M)))\n",
    "Es = mod.Es\n",
    "\n",
    "# generate random bits\n",
    "bits = np.random.randint(2, size = (K, Nwords))\n",
    "\n",
    "# encode data bits with LDPC soft-FEC\n",
    "bitsTx, codedBitsTx, interlv = ldpcEncode(bits, LDPCparams)\n",
    "\n",
    "# Map bits to constellation symbols\n",
    "#symbTx = mod.modulate(bitsTx)\n",
    "symbTx = modulateGray(bitsTx, M, 'qam')\n",
    "\n",
    "# Normalize symbols energy to 1\n",
    "symbTx = symbTx/np.sqrt(Es)\n",
    "\n",
    "# AWGN    \n",
    "snrdB    = EbN0dB + 10*np.log10(np.log2(M))\n",
    "noiseVar = 1/(10**(snrdB/10))\n",
    "\n",
    "symbRx = awgn(symbTx, noiseVar)\n",
    "\n",
    "# pre-FEC BER calculation (hard demodulation)\n",
    "BER, _, _ = fastBERcalc(symbRx, symbTx, M, 'qam')\n",
    "print('BER = %.2e'%BER[0])\n",
    "\n",
    "# soft-demodulation\n",
    "llr = calcLLR(symbRx, noiseVar, constSymb/np.sqrt(Es), bitMap)\n",
    "\n",
    "# soft-FEC decoding\n",
    "decodedBits, llr_out = ldpcDecode(llr, interlv, LDPCparams, nIter, alg=\"SPA\")\n",
    "\n",
    "# post-FEC BER calculation\n",
    "BERpost = np.mean(np.logical_xor(bits, decodedBits[0:K,:]))\n",
    "\n",
    "print('BERpostFEC = %.2e'%BERpost)\n",
    "print('Number of bits = ', decodedBits.size)"
   ]
  },
  {
   "cell_type": "code",
   "execution_count": 8,
   "id": "4db6bec7",
   "metadata": {
    "ExecuteTime": {
     "end_time": "2021-11-23T22:03:53.755479Z",
     "start_time": "2021-11-23T21:39:00.224725Z"
    }
   },
   "outputs": [
    {
     "name": "stdout",
     "output_type": "stream",
     "text": [
      "run sim: M =  64\n"
     ]
    },
    {
     "data": {
      "application/vnd.jupyter.widget-view+json": {
       "model_id": "59f7f4451e804c9e9fc1c0e5588f1426",
       "version_major": 2,
       "version_minor": 0
      },
      "text/plain": [
       "  0%|          | 0/50 [00:00<?, ?it/s]"
      ]
     },
     "metadata": {},
     "output_type": "display_data"
    }
   ],
   "source": [
    "Nwords = 16\n",
    "nIter  = 50\n",
    "\n",
    "# FEC parameters\n",
    "LDPCparams = ldpc.get_ldpc_code_params(filePath)\n",
    "LDPCparams['filename'] = filename\n",
    "K = LDPCparams['n_vnodes'] - LDPCparams['n_cnodes']\n",
    "\n",
    "# Run BER vs Ebn0 Monte Carlo simulation \n",
    "qamOrder  = [64]  # Modulation order\n",
    "EbN0dB_  = np.arange(7, 9.5, 0.05)\n",
    "\n",
    "BERpre   = np.zeros((len(EbN0dB_),len(qamOrder)))\n",
    "BERpost  = np.zeros((len(EbN0dB_),len(qamOrder)))\n",
    "\n",
    "BERpre[:]  = np.nan\n",
    "BERpost[:] = np.nan\n",
    "\n",
    "for ii, M in enumerate(qamOrder):\n",
    "    print('run sim: M = ', M)\n",
    "    \n",
    "    # modulation parameters\n",
    "    mod = QAMModem(m=M)\n",
    "    constSymb = mod.constellation\n",
    "    bitMap = mod.demodulate(constSymb, demod_type=\"hard\")\n",
    "    bitMap = bitMap.reshape(-1, int(np.log2(M)))\n",
    "    Es = mod.Es\n",
    "\n",
    "    for indSNR in tqdm(range(EbN0dB_.size)):\n",
    "        \n",
    "        EbN0dB = EbN0dB_[indSNR]\n",
    "        \n",
    "        # generate random bits\n",
    "        bits = np.random.randint(2, size = (K, Nwords))\n",
    "\n",
    "        # encode data bits with LDPC soft-FEC\n",
    "        bitsTx, codedBitsTx, interlv = ldpcEncode(bits, LDPCparams)\n",
    "\n",
    "        # Map bits to constellation symbols\n",
    "        symbTx = mod.modulate(bitsTx)\n",
    "\n",
    "        # Normalize symbols energy to 1\n",
    "        symbTx = symbTx/np.sqrt(Es)\n",
    "\n",
    "        # AWGN    \n",
    "        snrdB    = EbN0dB + 10*np.log10(np.log2(M))\n",
    "        noiseVar = 1/(10**(snrdB/10))\n",
    "\n",
    "        symbRx = awgn(symbTx, noiseVar)\n",
    "\n",
    "        # pre-FEC BER calculation (hard demodulation)\n",
    "        BERpre[indSNR, ii], _, _ = fastBERcalc(symbRx, symbTx, mod)\n",
    "        #print('BER = %.2e'%BERpre[indSNR, ii])\n",
    "\n",
    "        # soft-demodulation\n",
    "        llr = calcLLR(symbRx, noiseVar, constSymb/np.sqrt(Es), bitMap)\n",
    "\n",
    "        # soft-FEC decoding\n",
    "        decodedBits, llr_out = ldpcDecode(llr, interlv, LDPCparams, nIter, alg=\"SPA\")\n",
    "\n",
    "        # post-FEC BER calculation\n",
    "        BERpost[indSNR, ii] = np.mean(np.logical_xor(codedBitsTx, decodedBits))\n",
    "        #print('BERpostFEC = %.2e'%BERpost[indSNR, ii])"
   ]
  },
  {
   "cell_type": "code",
   "execution_count": 9,
   "id": "c6c7b223",
   "metadata": {
    "ExecuteTime": {
     "end_time": "2021-11-24T03:01:47.176781Z",
     "start_time": "2021-11-24T03:01:46.529483Z"
    },
    "lines_to_next_cell": 0
   },
   "outputs": [
    {
     "data": {
      "image/png": "[encoded data removed]",
      "text/plain": [
       "<Figure size 720x432 with 1 Axes>"
      ]
     },
     "metadata": {
      "needs_background": "light"
     },
     "output_type": "display_data"
    }
   ],
   "source": [
    "# Plot simulation results       \n",
    "BERpre[BERpre==0] = np.nan\n",
    "BERpost[BERpost==0] = np.nan\n",
    "\n",
    "plt.figure(figsize=(10,6))\n",
    "for ii, M in enumerate(qamOrder):\n",
    "    plt.plot(EbN0dB_, np.log10(BERpre[:,ii]),'o-', label=str(M)+'QAM monte carlo [pre]')\n",
    "\n",
    "#plt.gca().set_prop_cycle(None)\n",
    "\n",
    "for ii, M in enumerate(qamOrder):\n",
    "    plt.plot(EbN0dB_, np.log10(BERpost[:,ii]),'kx-', label=str(M)+'QAM monte carlo [post]')\n",
    "\n",
    "plt.xlim(min(EbN0dB_), max(EbN0dB_))\n",
    "plt.ylim(-6, 0)\n",
    "plt.legend();\n",
    "plt.xlabel('EbN0 [dB]');\n",
    "plt.ylabel('log10(BER)');\n",
    "plt.grid()"
   ]
  },
  {
   "cell_type": "code",
   "execution_count": null,
   "id": "986f7ebc",
   "metadata": {
    "lines_to_next_cell": 2
   },
   "outputs": [],
   "source": []
  }
 ],
 "metadata": {
  "jupytext": {
   "encoding": "# -*- coding: utf-8 -*-",
   "formats": "ipynb,py:light"
  },
  "kernelspec": {
   "display_name": "Python 3 (ipykernel)",
   "language": "python",
   "name": "python3"
  },
  "language_info": {
   "codemirror_mode": {
    "name": "ipython",
    "version": 3
   },
   "file_extension": ".py",
   "mimetype": "text/x-python",
   "name": "python",
   "nbconvert_exporter": "python",
   "pygments_lexer": "ipython3",
   "version": "3.9.12"
  },
  "toc": {
   "base_numbering": 1,
   "nav_menu": {},
   "number_sections": true,
   "sideBar": true,
   "skip_h1_title": true,
   "title_cell": "Table of Contents",
   "title_sidebar": "Contents",
   "toc_cell": true,
   "toc_position": {},
   "toc_section_display": true,
   "toc_window_display": false
  },
  "varInspector": {
   "cols": {
    "lenName": 16,
    "lenType": 16,
    "lenVar": 40
   },
   "kernels_config": {
    "python": {
     "delete_cmd_postfix": "",
     "delete_cmd_prefix": "del ",
     "library": "var_list.py",
     "varRefreshCmd": "print(var_dic_list())"
    },
    "r": {
     "delete_cmd_postfix": ") ",
     "delete_cmd_prefix": "rm(",
     "library": "var_list.r",
     "varRefreshCmd": "cat(var_dic_list()) "
    }
   },
   "types_to_exclude": [
    "module",
    "function",
    "builtin_function_or_method",
    "instance",
    "_Feature"
   ],
   "window_display": false
  }
 },
 "nbformat": 4,
 "nbformat_minor": 5
}
